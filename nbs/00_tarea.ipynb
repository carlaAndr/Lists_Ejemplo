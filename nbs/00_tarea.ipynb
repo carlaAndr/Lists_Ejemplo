{
 "cells": [
  {
   "cell_type": "markdown",
   "metadata": {},
   "source": [
    "# Tarea\n",
    "\n",
    "> Módulo de un objeto \"Tarea\""
   ]
  },
  {
   "cell_type": "code",
   "execution_count": null,
   "metadata": {},
   "outputs": [],
   "source": [
    "#| default_exp tarea"
   ]
  },
  {
   "cell_type": "code",
   "execution_count": null,
   "metadata": {},
   "outputs": [],
   "source": [
    "#| hide\n",
    "from nbdev.showdoc import *\n",
    "from fastcore.test import *\n",
    "from fastcore.basics import *"
   ]
  },
  {
   "cell_type": "code",
   "execution_count": null,
   "metadata": {},
   "outputs": [],
   "source": [
    "#| export\n",
    "class Tarea:\n",
    "    \"Crea una tarea con un título, una descripción, un estado (completado o no completado) y una fecha de entrega\"\n",
    "    def __init__(self, \n",
    "                 titulo:str, # Título de la tarea\n",
    "                 fecha_entrega:str, # Fecha de entrega en formato dd/mm/aaaa. De no estar escrito así, marcará error\n",
    "                 descripcion:str='' # Información adicional sobre la tarea\n",
    "                 ) -> None:\n",
    "        self.titulo = titulo\n",
    "        self.descripcion = descripcion\n",
    "        self.fecha_entrega = fecha_entrega\n",
    "        self.completado = False\n",
    "    def __str__(self) -> str:\n",
    "        \"Regresa la informacion completa sobre la tarea\"\n",
    "        return f\"Tarea: {self.titulo}. \\nDescripción: {self.descripcion}. \\nFecha de entrega: {self.fecha_entrega}. \\nCompletado: {self.completado}\"\n",
    "    __repr__ = __str__ \n",
    "    def __lt__(self,\n",
    "               other: 'Tarea'):\n",
    "        \"Define la lógica de comparación basada en la fecha de entrega\"\n",
    "        return self.fecha_entrega < other.fecha_entrega"
   ]
  },
  {
   "cell_type": "code",
   "execution_count": null,
   "metadata": {},
   "outputs": [
    {
     "data": {
      "text/markdown": [
       "---\n",
       "\n",
       "[source](https://github.com/Palazrak/nbdev_ejemplo/blob/main/nbdev_ejemplo/tarea.py#L7){target=\"_blank\" style=\"float:right; font-size:smaller\"}\n",
       "\n",
       "### Tarea\n",
       "\n",
       ">      Tarea (titulo:str, fecha_entrega:str, descripcion:str='')\n",
       "\n",
       "Crea una tarea con un título, una descripción, un estado (completado o no completado) y una fecha de entrega\n",
       "\n",
       "|    | **Type** | **Default** | **Details** |\n",
       "| -- | -------- | ----------- | ----------- |\n",
       "| titulo | str |  | Título de la tarea |\n",
       "| fecha_entrega | str |  | Fecha de entrega en formato dd/mm/aaaa. De no estar escrito así, marcará error |\n",
       "| descripcion | str |  | Información adicional sobre la tarea |\n",
       "| **Returns** | **None** |  |  |"
      ],
      "text/plain": [
       "---\n",
       "\n",
       "[source](https://github.com/Palazrak/nbdev_ejemplo/blob/main/nbdev_ejemplo/tarea.py#L7){target=\"_blank\" style=\"float:right; font-size:smaller\"}\n",
       "\n",
       "### Tarea\n",
       "\n",
       ">      Tarea (titulo:str, fecha_entrega:str, descripcion:str='')\n",
       "\n",
       "Crea una tarea con un título, una descripción, un estado (completado o no completado) y una fecha de entrega\n",
       "\n",
       "|    | **Type** | **Default** | **Details** |\n",
       "| -- | -------- | ----------- | ----------- |\n",
       "| titulo | str |  | Título de la tarea |\n",
       "| fecha_entrega | str |  | Fecha de entrega en formato dd/mm/aaaa. De no estar escrito así, marcará error |\n",
       "| descripcion | str |  | Información adicional sobre la tarea |\n",
       "| **Returns** | **None** |  |  |"
      ]
     },
     "execution_count": null,
     "metadata": {},
     "output_type": "execute_result"
    }
   ],
   "source": [
    "show_doc(Tarea)"
   ]
  },
  {
   "cell_type": "markdown",
   "metadata": {},
   "source": [
    "# Comparaciones"
   ]
  },
  {
   "cell_type": "code",
   "execution_count": null,
   "metadata": {},
   "outputs": [
    {
     "data": {
      "text/markdown": [
       "---\n",
       "\n",
       "[source](https://github.com/Palazrak/nbdev_ejemplo/blob/main/nbdev_ejemplo/tarea.py#L23){target=\"_blank\" style=\"float:right; font-size:smaller\"}\n",
       "\n",
       "### Tarea.__lt__\n",
       "\n",
       ">      Tarea.__lt__ (other:__main__.Tarea)\n",
       "\n",
       "Define la lógica de comparación basada en la fecha de entrega"
      ],
      "text/plain": [
       "---\n",
       "\n",
       "[source](https://github.com/Palazrak/nbdev_ejemplo/blob/main/nbdev_ejemplo/tarea.py#L23){target=\"_blank\" style=\"float:right; font-size:smaller\"}\n",
       "\n",
       "### Tarea.__lt__\n",
       "\n",
       ">      Tarea.__lt__ (other:__main__.Tarea)\n",
       "\n",
       "Define la lógica de comparación basada en la fecha de entrega"
      ]
     },
     "execution_count": null,
     "metadata": {},
     "output_type": "execute_result"
    }
   ],
   "source": [
    "show_doc(Tarea.__lt__)"
   ]
  },
  {
   "cell_type": "code",
   "execution_count": null,
   "metadata": {},
   "outputs": [],
   "source": [
    "#| hide\n",
    "import nbdev; nbdev.nbdev_export()"
   ]
  }
 ],
 "metadata": {
  "kernelspec": {
   "display_name": "python3",
   "language": "python",
   "name": "python3"
  }
 },
 "nbformat": 4,
 "nbformat_minor": 4
}
