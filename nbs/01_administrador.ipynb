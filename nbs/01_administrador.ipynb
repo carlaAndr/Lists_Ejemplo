{
 "cells": [
  {
   "cell_type": "markdown",
   "metadata": {},
   "source": [
    "# Administrador\n",
    "\n",
    "> Lista de tareas para manejar tus pendientes"
   ]
  },
  {
   "cell_type": "code",
   "execution_count": null,
   "metadata": {},
   "outputs": [],
   "source": [
    "#| default_exp administrador"
   ]
  },
  {
   "cell_type": "code",
   "execution_count": null,
   "metadata": {},
   "outputs": [],
   "source": [
    "#| hide\n",
    "from nbdev.showdoc import *\n",
    "from fastcore.test import *\n",
    "from fastcore.basics import *\n",
    "from nbdev_ejemplo.tarea import *\n",
    "from datetime import datetime"
   ]
  },
  {
   "cell_type": "code",
   "execution_count": null,
   "metadata": {},
   "outputs": [],
   "source": [
    "#| export\n",
    "class Administrador:\n",
    "    \"Crea un administrador de tareas\"\n",
    "    def __init__(self) -> None:\n",
    "        self.lista_tareas = []\n",
    "    def agrega_tarea(self, \n",
    "                 titulo:str, # Título de la tarea\n",
    "                 fecha_entrega:str, # Fecha de entrega en formato dd/mm/aaaa. De no estar escrito así, marcará error\n",
    "                 descripcion:str='' # Información adicional sobre la tarea\n",
    "                 ) -> bool: #Regresa si la tarea se agregó exitosamente o no\n",
    "        \"Crea una tarea, la agrega a la lista y la ordena con base en la fecha de entrega\"\n",
    "        tarea = Tarea(titulo=titulo, fecha_entrega=fecha_entrega, descripcion=descripcion)\n",
    "        self.lista_tareas.append(tarea)\n",
    "        self.lista_tareas = sorted(self.lista_tareas, key=lambda x:datetime.strptime(x.fecha_entrega, \"%d/%m/%Y\"))\n",
    "    def imprime_completo(self) -> str:\n",
    "        \"Imprime todas las tareas en la lista\"\n",
    "        for tarea in self.lista_tareas:\n",
    "            print(tarea)\n",
    "            \n",
    "    def imprime_faltantes(self) -> str:\n",
    "        \"Regresa las tareas que no han sido completadas\"\n",
    "        for tarea in self.lista_tareas:\n",
    "            if tarea.completado == False:\n",
    "                print(tarea)\n",
    "    __repr__ = imprime_completo\n",
    "    def tarea_completada(self, \n",
    "                         titulo:str # Título de la tarea que se busca\n",
    "                         )-> bool: # Regresa True si la tarea estaba en la lista y la marcó como completada\n",
    "        \"Busca una tarea por su nombre y la marca como completado\"\n",
    "        for tarea in self.lista_tareas:\n",
    "            if tarea.titulo == titulo:\n",
    "                tarea.completado = True\n",
    "                return True\n",
    "        return False"
   ]
  },
  {
   "cell_type": "code",
   "execution_count": null,
   "metadata": {},
   "outputs": [
    {
     "data": {
      "text/markdown": [
       "---\n",
       "\n",
       "[source](https://github.com/Palazrak/nbdev_ejemplo/blob/main/nbdev_ejemplo/administrador.py#L7){target=\"_blank\" style=\"float:right; font-size:smaller\"}\n",
       "\n",
       "### Administrador\n",
       "\n",
       ">      Administrador ()\n",
       "\n",
       "Crea un administrador de tareas"
      ],
      "text/plain": [
       "---\n",
       "\n",
       "[source](https://github.com/Palazrak/nbdev_ejemplo/blob/main/nbdev_ejemplo/administrador.py#L7){target=\"_blank\" style=\"float:right; font-size:smaller\"}\n",
       "\n",
       "### Administrador\n",
       "\n",
       ">      Administrador ()\n",
       "\n",
       "Crea un administrador de tareas"
      ]
     },
     "execution_count": null,
     "metadata": {},
     "output_type": "execute_result"
    }
   ],
   "source": [
    "show_doc(Administrador)"
   ]
  },
  {
   "cell_type": "code",
   "execution_count": null,
   "metadata": {},
   "outputs": [
    {
     "data": {
      "text/markdown": [
       "---\n",
       "\n",
       "[source](https://github.com/Palazrak/nbdev_ejemplo/blob/main/nbdev_ejemplo/administrador.py#L11){target=\"_blank\" style=\"float:right; font-size:smaller\"}\n",
       "\n",
       "### Administrador.agrega_tarea\n",
       "\n",
       ">      Administrador.agrega_tarea (titulo:str, fecha_entrega:str,\n",
       ">                                  descripcion:str='')\n",
       "\n",
       "Crea una tarea, la agrega a la lista y la ordena con base en la fecha de entrega\n",
       "\n",
       "|    | **Type** | **Default** | **Details** |\n",
       "| -- | -------- | ----------- | ----------- |\n",
       "| titulo | str |  | Título de la tarea |\n",
       "| fecha_entrega | str |  | Fecha de entrega en formato dd/mm/aaaa. De no estar escrito así, marcará error |\n",
       "| descripcion | str |  | Información adicional sobre la tarea |\n",
       "| **Returns** | **bool** |  | **Regresa si la tarea se agregó exitosamente o no** |"
      ],
      "text/plain": [
       "---\n",
       "\n",
       "[source](https://github.com/Palazrak/nbdev_ejemplo/blob/main/nbdev_ejemplo/administrador.py#L11){target=\"_blank\" style=\"float:right; font-size:smaller\"}\n",
       "\n",
       "### Administrador.agrega_tarea\n",
       "\n",
       ">      Administrador.agrega_tarea (titulo:str, fecha_entrega:str,\n",
       ">                                  descripcion:str='')\n",
       "\n",
       "Crea una tarea, la agrega a la lista y la ordena con base en la fecha de entrega\n",
       "\n",
       "|    | **Type** | **Default** | **Details** |\n",
       "| -- | -------- | ----------- | ----------- |\n",
       "| titulo | str |  | Título de la tarea |\n",
       "| fecha_entrega | str |  | Fecha de entrega en formato dd/mm/aaaa. De no estar escrito así, marcará error |\n",
       "| descripcion | str |  | Información adicional sobre la tarea |\n",
       "| **Returns** | **bool** |  | **Regresa si la tarea se agregó exitosamente o no** |"
      ]
     },
     "execution_count": null,
     "metadata": {},
     "output_type": "execute_result"
    }
   ],
   "source": [
    "show_doc(Administrador.agrega_tarea)"
   ]
  },
  {
   "cell_type": "code",
   "execution_count": null,
   "metadata": {},
   "outputs": [
    {
     "data": {
      "text/markdown": [
       "---\n",
       "\n",
       "[source](https://github.com/Palazrak/nbdev_ejemplo/blob/main/nbdev_ejemplo/administrador.py#L31){target=\"_blank\" style=\"float:right; font-size:smaller\"}\n",
       "\n",
       "### Administrador.tarea_completada\n",
       "\n",
       ">      Administrador.tarea_completada (titulo:str)\n",
       "\n",
       "Busca una tarea por su nombre y la marca como completado\n",
       "\n",
       "|    | **Type** | **Details** |\n",
       "| -- | -------- | ----------- |\n",
       "| titulo | str | Título de la tarea que se busca |\n",
       "| **Returns** | **bool** | **Regresa True si la tarea estaba en la lista y la marcó como completada** |"
      ],
      "text/plain": [
       "---\n",
       "\n",
       "[source](https://github.com/Palazrak/nbdev_ejemplo/blob/main/nbdev_ejemplo/administrador.py#L31){target=\"_blank\" style=\"float:right; font-size:smaller\"}\n",
       "\n",
       "### Administrador.tarea_completada\n",
       "\n",
       ">      Administrador.tarea_completada (titulo:str)\n",
       "\n",
       "Busca una tarea por su nombre y la marca como completado\n",
       "\n",
       "|    | **Type** | **Details** |\n",
       "| -- | -------- | ----------- |\n",
       "| titulo | str | Título de la tarea que se busca |\n",
       "| **Returns** | **bool** | **Regresa True si la tarea estaba en la lista y la marcó como completada** |"
      ]
     },
     "execution_count": null,
     "metadata": {},
     "output_type": "execute_result"
    }
   ],
   "source": [
    "show_doc(Administrador.tarea_completada)"
   ]
  },
  {
   "cell_type": "markdown",
   "metadata": {},
   "source": [
    "# Formas de imprimir al administrador de tareas"
   ]
  },
  {
   "cell_type": "code",
   "execution_count": null,
   "metadata": {},
   "outputs": [
    {
     "data": {
      "text/markdown": [
       "---\n",
       "\n",
       "[source](https://github.com/Palazrak/nbdev_ejemplo/blob/main/nbdev_ejemplo/administrador.py#L20){target=\"_blank\" style=\"float:right; font-size:smaller\"}\n",
       "\n",
       "### Administrador.imprime_completo\n",
       "\n",
       ">      Administrador.imprime_completo ()\n",
       "\n",
       "Imprime todas las tareas en la lista"
      ],
      "text/plain": [
       "---\n",
       "\n",
       "[source](https://github.com/Palazrak/nbdev_ejemplo/blob/main/nbdev_ejemplo/administrador.py#L20){target=\"_blank\" style=\"float:right; font-size:smaller\"}\n",
       "\n",
       "### Administrador.imprime_completo\n",
       "\n",
       ">      Administrador.imprime_completo ()\n",
       "\n",
       "Imprime todas las tareas en la lista"
      ]
     },
     "execution_count": null,
     "metadata": {},
     "output_type": "execute_result"
    }
   ],
   "source": [
    "show_doc(Administrador.imprime_completo)"
   ]
  },
  {
   "cell_type": "code",
   "execution_count": null,
   "metadata": {},
   "outputs": [
    {
     "data": {
      "text/markdown": [
       "---\n",
       "\n",
       "[source](https://github.com/Palazrak/nbdev_ejemplo/blob/main/nbdev_ejemplo/administrador.py#L25){target=\"_blank\" style=\"float:right; font-size:smaller\"}\n",
       "\n",
       "### Administrador.imprime_faltantes\n",
       "\n",
       ">      Administrador.imprime_faltantes ()\n",
       "\n",
       "Regresa las tareas que no han sido completadas"
      ],
      "text/plain": [
       "---\n",
       "\n",
       "[source](https://github.com/Palazrak/nbdev_ejemplo/blob/main/nbdev_ejemplo/administrador.py#L25){target=\"_blank\" style=\"float:right; font-size:smaller\"}\n",
       "\n",
       "### Administrador.imprime_faltantes\n",
       "\n",
       ">      Administrador.imprime_faltantes ()\n",
       "\n",
       "Regresa las tareas que no han sido completadas"
      ]
     },
     "execution_count": null,
     "metadata": {},
     "output_type": "execute_result"
    }
   ],
   "source": [
    "show_doc(Administrador.imprime_faltantes)"
   ]
  },
  {
   "cell_type": "markdown",
   "metadata": {},
   "source": [
    "## Pruebas de la clase"
   ]
  },
  {
   "cell_type": "markdown",
   "metadata": {},
   "source": [
    "Creamos un administrador"
   ]
  },
  {
   "cell_type": "code",
   "execution_count": null,
   "metadata": {},
   "outputs": [],
   "source": [
    "administrador = Administrador()"
   ]
  },
  {
   "cell_type": "code",
   "execution_count": null,
   "metadata": {},
   "outputs": [],
   "source": [
    "administrador.agrega_tarea(titulo=\"Proyecto FDD\", fecha_entrega=\"25/11/2023\", descripcion=\"Código, GitHub y presentación\")\n"
   ]
  },
  {
   "cell_type": "code",
   "execution_count": null,
   "metadata": {},
   "outputs": [],
   "source": [
    "administrador.agrega_tarea(titulo=\"Tarea FDD\", fecha_entrega=\"20/11/2023\", descripcion=\"Tarea limpieza de datos\")"
   ]
  },
  {
   "cell_type": "markdown",
   "metadata": {},
   "source": [
    "Imprimamos la lista completa"
   ]
  },
  {
   "cell_type": "code",
   "execution_count": null,
   "metadata": {},
   "outputs": [
    {
     "name": "stdout",
     "output_type": "stream",
     "text": [
      "Tarea: Tarea FDD. \n",
      "Descripción: Tarea limpieza de datos. \n",
      "Fecha de entrega: 20/11/2023. \n",
      "Completado: False\n",
      "Tarea: Proyecto FDD. \n",
      "Descripción: Código, GitHub y presentación. \n",
      "Fecha de entrega: 25/11/2023. \n",
      "Completado: False\n"
     ]
    }
   ],
   "source": [
    "administrador.imprime_completo()"
   ]
  },
  {
   "cell_type": "markdown",
   "metadata": {},
   "source": [
    "Ahora marquemos una tarea como completada e imprimamos las no completadas"
   ]
  },
  {
   "cell_type": "code",
   "execution_count": null,
   "metadata": {},
   "outputs": [],
   "source": [
    "assert administrador.tarea_completada(\"Tarea FDD\")"
   ]
  },
  {
   "cell_type": "code",
   "execution_count": null,
   "metadata": {},
   "outputs": [
    {
     "name": "stdout",
     "output_type": "stream",
     "text": [
      "Tarea: Proyecto FDD. \n",
      "Descripción: Código, GitHub y presentación. \n",
      "Fecha de entrega: 25/11/2023. \n",
      "Completado: False\n"
     ]
    }
   ],
   "source": [
    "administrador.imprime_faltantes()"
   ]
  },
  {
   "cell_type": "code",
   "execution_count": null,
   "metadata": {},
   "outputs": [],
   "source": [
    "#| hide\n",
    "import nbdev; nbdev.nbdev_export()"
   ]
  }
 ],
 "metadata": {
  "kernelspec": {
   "display_name": "python3",
   "language": "python",
   "name": "python3"
  }
 },
 "nbformat": 4,
 "nbformat_minor": 4
}
