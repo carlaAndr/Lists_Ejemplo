{
 "cells": [
  {
   "cell_type": "markdown",
   "metadata": {},
   "source": [
    "# Artículo \n",
    "\n",
    "> Crea un artículo de supermercado"
   ]
  },
  {
   "cell_type": "code",
   "execution_count": null,
   "metadata": {},
   "outputs": [],
   "source": [
    "#| default_exp articulo"
   ]
  },
  {
   "cell_type": "code",
   "execution_count": null,
   "metadata": {},
   "outputs": [],
   "source": [
    "#| hide\n",
    "from nbdev.showdoc import *\n",
    "from fastcore.test import *\n",
    "from fastcore.basics import *\n",
    "from nbdev_ejemplo.tarea import *\n",
    "from bisect import insort"
   ]
  },
  {
   "cell_type": "code",
   "execution_count": null,
   "metadata": {},
   "outputs": [],
   "source": [
    "#| export\n",
    "class Articulo:\n",
    "    \"Crea un artículo de supermercado con un nombre. Inicializa el 'estado' en False, para saber que no ha sido adquirido\"\n",
    "    def __init__(self, \n",
    "                 nombre:str, # Título del artículo\n",
    "                 ) -> None:\n",
    "        self.nombre = nombre\n",
    "        self.estado = False\n",
    "    def __str__(self) -> str:\n",
    "        \"Regresa la informacion completa sobre el artículo\"\n",
    "        return f\"Artículo: {self.nombre}. Agregado al carrrito: {self.estado}\"\n",
    "    __repr__ = __str__ "
   ]
  },
  {
   "cell_type": "code",
   "execution_count": null,
   "metadata": {},
   "outputs": [
    {
     "data": {
      "text/markdown": [
       "---\n",
       "\n",
       "### Administrador\n",
       "\n",
       ">      Administrador ()\n",
       "\n",
       "Crea un administrador de tareas"
      ],
      "text/plain": [
       "---\n",
       "\n",
       "### Administrador\n",
       "\n",
       ">      Administrador ()\n",
       "\n",
       "Crea un administrador de tareas"
      ]
     },
     "execution_count": null,
     "metadata": {},
     "output_type": "execute_result"
    }
   ],
   "source": [
    "show_doc(Articulo)"
   ]
  },
  {
   "cell_type": "code",
   "execution_count": null,
   "metadata": {},
   "outputs": [
    {
     "data": {
      "text/markdown": [
       "---\n",
       "\n",
       "### Administrador.agrega_tarea\n",
       "\n",
       ">      Administrador.agrega_tarea (titulo:str, fecha_entrega:str,\n",
       ">                                  completado:bool=False, descripcion:str='')\n",
       "\n",
       "Crea una tarea, la agrega a la lista y la ordena con base en la fecha de entrega\n",
       "\n",
       "|    | **Type** | **Default** | **Details** |\n",
       "| -- | -------- | ----------- | ----------- |\n",
       "| titulo | str |  | Título de la tarea |\n",
       "| fecha_entrega | str |  | Fecha de entrega en formato dd/mm/aaaa. De no estar escrito así, marcará error |\n",
       "| completado | bool | False | Indica si ya se entregó o no |\n",
       "| descripcion | str |  | Información adicional sobre la tarea |\n",
       "| **Returns** | **bool** |  | **Regresa si la tarea se agregó exitosamente o no** |"
      ],
      "text/plain": [
       "---\n",
       "\n",
       "### Administrador.agrega_tarea\n",
       "\n",
       ">      Administrador.agrega_tarea (titulo:str, fecha_entrega:str,\n",
       ">                                  completado:bool=False, descripcion:str='')\n",
       "\n",
       "Crea una tarea, la agrega a la lista y la ordena con base en la fecha de entrega\n",
       "\n",
       "|    | **Type** | **Default** | **Details** |\n",
       "| -- | -------- | ----------- | ----------- |\n",
       "| titulo | str |  | Título de la tarea |\n",
       "| fecha_entrega | str |  | Fecha de entrega en formato dd/mm/aaaa. De no estar escrito así, marcará error |\n",
       "| completado | bool | False | Indica si ya se entregó o no |\n",
       "| descripcion | str |  | Información adicional sobre la tarea |\n",
       "| **Returns** | **bool** |  | **Regresa si la tarea se agregó exitosamente o no** |"
      ]
     },
     "execution_count": null,
     "metadata": {},
     "output_type": "execute_result"
    }
   ],
   "source": [
    "show_doc(Articulo.__str__)"
   ]
  },
  {
   "cell_type": "code",
   "execution_count": null,
   "metadata": {},
   "outputs": [],
   "source": [
    "#| hide\n",
    "import nbdev; nbdev.nbdev_export()"
   ]
  }
 ],
 "metadata": {
  "kernelspec": {
   "display_name": "python3",
   "language": "python",
   "name": "python3"
  }
 },
 "nbformat": 4,
 "nbformat_minor": 4
}
