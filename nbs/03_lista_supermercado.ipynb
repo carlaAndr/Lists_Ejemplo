{
 "cells": [
  {
   "cell_type": "markdown",
   "metadata": {},
   "source": [
    "# Lista del supermercado\n",
    "\n",
    "> Objeto que contiene una lista de articulos"
   ]
  },
  {
   "cell_type": "code",
   "execution_count": null,
   "metadata": {},
   "outputs": [],
   "source": [
    "#| default_exp lista_articulos"
   ]
  },
  {
   "cell_type": "code",
   "execution_count": null,
   "metadata": {},
   "outputs": [],
   "source": [
    "#| hide\n",
    "from nbdev.showdoc import *\n",
    "from fastcore.test import *\n",
    "from fastcore.basics import *\n",
    "from nbdev_ejemplo.articulo import *"
   ]
  },
  {
   "cell_type": "code",
   "execution_count": null,
   "metadata": {},
   "outputs": [],
   "source": [
    "#| export\n",
    "class ListaSupermercado:\n",
    "    \"Crea una lista de artículos de supermercado\"\n",
    "    def __init__(self) -> None:\n",
    "        self.lista_super = []\n",
    "    def agrega_articulo(self,\n",
    "                        nombre:str): # Nombre con el que se creará el artículo\n",
    "        \"Crea un articulo de supermercado y lo agrega a la lista del supermercado\"\n",
    "        articulo = Articulo(nombre)\n",
    "        self.lista_super.add(articulo)\n",
    "    def marcar_agregado(self,\n",
    "                        nombre:str # Nombre del articulo que va a buscar\n",
    "                        ) -> bool: #Regresa True si el elemento estaba en la lista y fue marcado como completado\n",
    "        \"Busa un articulo por su nombre y lo marca como agregado\"\n",
    "        for articulo in self.lista_super:\n",
    "            if articulo.nombre == nombre:\n",
    "                articulo.estado = True\n",
    "                return True\n",
    "        return False\n",
    "    def lista_completa(self)->str:\n",
    "        \"Imprime la lista de supermercado completa, incluyendo los elementos marcados como ya agregados\"\n",
    "        for articulo in self.lista_super:\n",
    "            print(articulo)\n",
    "    def lista_faltantes(self)->str:\n",
    "        \"Imprime los artículos que faltan por agregar a la lista\"\n",
    "        for articulo in self.lista_super:\n",
    "            if articulo.estado == False:\n",
    "                print(articulo)\n",
    "    __repr__ = lista_completa"
   ]
  },
  {
   "cell_type": "code",
   "execution_count": null,
   "metadata": {},
   "outputs": [
    {
     "data": {
      "text/markdown": [
       "---\n",
       "\n",
       "### ListaSupermercado\n",
       "\n",
       ">      ListaSupermercado ()\n",
       "\n",
       "Crea una lista de artículos de supermercado"
      ],
      "text/plain": [
       "---\n",
       "\n",
       "### ListaSupermercado\n",
       "\n",
       ">      ListaSupermercado ()\n",
       "\n",
       "Crea una lista de artículos de supermercado"
      ]
     },
     "execution_count": null,
     "metadata": {},
     "output_type": "execute_result"
    }
   ],
   "source": [
    "show_doc(ListaSupermercado)"
   ]
  },
  {
   "cell_type": "code",
   "execution_count": null,
   "metadata": {},
   "outputs": [
    {
     "data": {
      "text/markdown": [
       "---\n",
       "\n",
       "### ListaSupermercado.agrega_articulo\n",
       "\n",
       ">      ListaSupermercado.agrega_articulo (nombre:str)\n",
       "\n",
       "Crea un articulo de supermercado y lo agrega a la lista\n",
       "\n",
       "|    | **Type** | **Details** |\n",
       "| -- | -------- | ----------- |\n",
       "| nombre | str | Nombre con el que se creará el artículo |"
      ],
      "text/plain": [
       "---\n",
       "\n",
       "### ListaSupermercado.agrega_articulo\n",
       "\n",
       ">      ListaSupermercado.agrega_articulo (nombre:str)\n",
       "\n",
       "Crea un articulo de supermercado y lo agrega a la lista\n",
       "\n",
       "|    | **Type** | **Details** |\n",
       "| -- | -------- | ----------- |\n",
       "| nombre | str | Nombre con el que se creará el artículo |"
      ]
     },
     "execution_count": null,
     "metadata": {},
     "output_type": "execute_result"
    }
   ],
   "source": [
    "show_doc(ListaSupermercado.agrega_articulo)"
   ]
  },
  {
   "cell_type": "code",
   "execution_count": null,
   "metadata": {},
   "outputs": [
    {
     "data": {
      "text/markdown": [
       "---\n",
       "\n",
       "### ListaSupermercado.marcar_agregado\n",
       "\n",
       ">      ListaSupermercado.marcar_agregado (nombre:str)\n",
       "\n",
       "Busa un articulo por su nombre y lo marca como agregado a la lista\n",
       "\n",
       "|    | **Type** | **Details** |\n",
       "| -- | -------- | ----------- |\n",
       "| nombre | str | Nombre del articulo que va a buscar |\n",
       "| **Returns** | **bool** | **Regresa True si el elemento estaba en la lista y fue marcado como completado** |"
      ],
      "text/plain": [
       "---\n",
       "\n",
       "### ListaSupermercado.marcar_agregado\n",
       "\n",
       ">      ListaSupermercado.marcar_agregado (nombre:str)\n",
       "\n",
       "Busa un articulo por su nombre y lo marca como agregado a la lista\n",
       "\n",
       "|    | **Type** | **Details** |\n",
       "| -- | -------- | ----------- |\n",
       "| nombre | str | Nombre del articulo que va a buscar |\n",
       "| **Returns** | **bool** | **Regresa True si el elemento estaba en la lista y fue marcado como completado** |"
      ]
     },
     "execution_count": null,
     "metadata": {},
     "output_type": "execute_result"
    }
   ],
   "source": [
    "show_doc(ListaSupermercado.marcar_agregado)"
   ]
  },
  {
   "cell_type": "code",
   "execution_count": null,
   "metadata": {},
   "outputs": [
    {
     "data": {
      "text/markdown": [
       "---\n",
       "\n",
       "### ListaSupermercado.lista_completa\n",
       "\n",
       ">      ListaSupermercado.lista_completa ()\n",
       "\n",
       "Imprime la lista de supermercado completa"
      ],
      "text/plain": [
       "---\n",
       "\n",
       "### ListaSupermercado.lista_completa\n",
       "\n",
       ">      ListaSupermercado.lista_completa ()\n",
       "\n",
       "Imprime la lista de supermercado completa"
      ]
     },
     "execution_count": null,
     "metadata": {},
     "output_type": "execute_result"
    }
   ],
   "source": [
    "show_doc(ListaSupermercado.lista_completa)"
   ]
  },
  {
   "cell_type": "code",
   "execution_count": null,
   "metadata": {},
   "outputs": [],
   "source": []
  },
  {
   "cell_type": "code",
   "execution_count": null,
   "metadata": {},
   "outputs": [],
   "source": [
    "#| hide\n",
    "import nbdev; nbdev.nbdev_export()"
   ]
  }
 ],
 "metadata": {
  "kernelspec": {
   "display_name": "python3",
   "language": "python",
   "name": "python3"
  }
 },
 "nbformat": 4,
 "nbformat_minor": 4
}
