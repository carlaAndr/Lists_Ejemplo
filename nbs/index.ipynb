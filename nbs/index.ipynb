{
 "cells": [
  {
   "cell_type": "code",
   "execution_count": null,
   "metadata": {},
   "outputs": [],
   "source": [
    "#| hide\n",
    "from nbdev_ejemplo.tarea import *\n",
    "from nbdev_ejemplo.administrador import *\n",
    "from nbdev_ejemplo.articulo import *\n",
    "from nbdev_ejemplo.lista_articulos import *"
   ]
  },
  {
   "cell_type": "markdown",
   "metadata": {},
   "source": [
    "# nbdev_ejemplo\n",
    "\n",
    "> Ejemplo de workflow en nbdev"
   ]
  },
  {
   "cell_type": "markdown",
   "metadata": {},
   "source": [
    "El proposito de esta libreria es ejemplificar el workflow de trabajo en nbdev. Para ello, crearemos en total 4 notebooks, dos que haremos durante la clase y dos que se dejarán de tarea."
   ]
  },
  {
   "cell_type": "markdown",
   "metadata": {},
   "source": [
    "## Instalación"
   ]
  },
  {
   "cell_type": "markdown",
   "metadata": {},
   "source": [
    "```sh\n",
    "pip install nbdev_ejemplo\n",
    "```"
   ]
  },
  {
   "cell_type": "markdown",
   "metadata": {},
   "source": [
    "## Notebooks creados"
   ]
  },
  {
   "cell_type": "markdown",
   "metadata": {},
   "source": [
    "La idea de este paquete es crear tanto un administrador de tareas como una lista de supermercado, a los cuales puedas agregar elementos e imprimir sus contenidos.\n",
    "\n",
    "Creemos que es un ejemplo ilustrativo de cómo utilizar varios notebooks al crear un paquete."
   ]
  }
 ],
 "metadata": {
  "kernelspec": {
   "display_name": "python3",
   "language": "python",
   "name": "python3"
  }
 },
 "nbformat": 4,
 "nbformat_minor": 4
}
